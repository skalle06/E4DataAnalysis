{
 "cells": [
  {
   "cell_type": "code",
   "execution_count": 2,
   "metadata": {},
   "outputs": [],
   "source": [
    "import pandas as pd\n",
    "import numpy as np\n",
    "import csv\n",
    "import glob\n",
    "import datetime\n",
    "import dateutil.parser as dp"
   ]
  },
  {
   "cell_type": "code",
   "execution_count": 3,
   "metadata": {},
   "outputs": [],
   "source": [
    "def process_surveys(list_of_files, participant_id):\n",
    "    responses = {\"morning\": None, \"evening\": None, \"afternoon\": None}\n",
    "    for file in list_of_files:\n",
    "        file_path_parts = file.split(\"\\\\\")\n",
    "        file_code = file_path_parts[-1:][0].split('_')[-1:][0].split('.')[0]\n",
    "\n",
    "        time_df = pd.read_csv(file)\n",
    "\n",
    "        time_df['Scheduled Time'] = time_df.apply(lambda x: dp.parse(x['Scheduled Time'], tzinfos=timezone_offsets), axis=1)\n",
    "        time_df['Issued Time'] = time_df.apply(lambda x: dp.parse(x['Issued Time'], tzinfos=timezone_offsets), axis=1)\n",
    "        time_df['Response Time'] = time_df.apply(lambda x: dp.parse(x['Response Time'], tzinfos=timezone_offsets), axis=1)\n",
    "        time_df['ParticipantId'] = time_df.apply(lambda x: 'PRF'+ x['Name'][6:], axis=1)\n",
    "\n",
    "        time_df.drop(columns=['Name'], inplace=True)\n",
    "\n",
    "        if file_code == '6758':\n",
    "            responses['morning'] = time_df\n",
    "        elif file_code == '6963':\n",
    "            responses['afternoon'] = time_df\n",
    "        elif file_code == '6964':\n",
    "            responses['evening'] = time_df\n",
    "        else:\n",
    "            raise Exception(\"Invalid survey response code: \" + file_code)\n",
    "    \n",
    "    return responses"
   ]
  },
  {
   "cell_type": "code",
   "execution_count": 4,
   "metadata": {},
   "outputs": [
    {
     "data": {
      "text/plain": [
       "['C:\\\\Users\\\\shaye\\\\Documents\\\\EAT Lab\\\\Sensor_Data\\\\ID PR025']"
      ]
     },
     "execution_count": 4,
     "metadata": {},
     "output_type": "execute_result"
    }
   ],
   "source": [
    "base_path = r\"C:\\Users\\shaye\\Documents\\EAT Lab\\Sensor_Data\"\n",
    "participant_data = glob.glob(base_path + \"\\ID PR*\")\n",
    "participant_data"
   ]
  },
  {
   "cell_type": "code",
   "execution_count": 5,
   "metadata": {},
   "outputs": [],
   "source": [
    "timezone_offsets = {'PST': -8*3600, \n",
    "                    'PDT': -7*3600,\n",
    "                    'EDT': -4*3600,\n",
    "                    'EST': -5*3600,\n",
    "                    'MST': -7*3600,\n",
    "                    'MDT': -6*3600,\n",
    "                    'CDT': -5*3600,\n",
    "                    'CST': -6*3600}"
   ]
  },
  {
   "cell_type": "code",
   "execution_count": 6,
   "metadata": {},
   "outputs": [
    {
     "name": "stdout",
     "output_type": "stream",
     "text": [
      "C:\\Users\\shaye\\Documents\\EAT Lab\\Sensor_Data\\ID PR025\n",
      "[]\n",
      "{'morning': None, 'evening': None, 'afternoon': None}\n"
     ]
    }
   ],
   "source": [
    "for path in participant_data:\n",
    "    print(path)\n",
    "    path_parts = path.split(\"\\\\\")\n",
    "    participant_id = path_parts[-1:][0].split()[-1:][0]\n",
    "    list_of_files = glob.glob(path + '\\responses\\survey_responses*.csv')\n",
    "    print(list_of_files)\n",
    "    responses_test = process_surveys(list_of_files, participant_id)\n",
    "    print(responses_test)"
   ]
  },
  {
   "cell_type": "code",
   "execution_count": null,
   "metadata": {},
   "outputs": [],
   "source": []
  }
 ],
 "metadata": {
  "kernelspec": {
   "display_name": "Python 3",
   "language": "python",
   "name": "python3"
  },
  "language_info": {
   "codemirror_mode": {
    "name": "ipython",
    "version": 3
   },
   "file_extension": ".py",
   "mimetype": "text/x-python",
   "name": "python",
   "nbconvert_exporter": "python",
   "pygments_lexer": "ipython3",
   "version": "3.8.5"
  }
 },
 "nbformat": 4,
 "nbformat_minor": 4
}
