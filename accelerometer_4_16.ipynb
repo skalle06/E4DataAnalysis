{
 "cells": [
  {
   "cell_type": "code",
   "execution_count": 1,
   "metadata": {},
   "outputs": [],
   "source": [
    "from scipy.signal import butter, lfilter\n",
    "import pandas as pd\n",
    "import numpy as np\n",
    "import csv\n",
    "import glob\n",
    "import matplotlib.pyplot as plt\n",
    "import datetime\n",
    "import math\n",
    "from zipfile import ZipFile"
   ]
  },
  {
   "cell_type": "code",
   "execution_count": 2,
   "metadata": {},
   "outputs": [],
   "source": [
    "def get_utc_date_time(ts):\n",
    "    return pd.to_datetime(ts, unit='s', infer_datetime_format = True, utc = True)\n",
    "#.strftime('%H:%M:%S:%f')\n",
    "\n",
    "def add_fs(sample_rate, date):\n",
    "    return date + datetime.timedelta(milliseconds=1.0/(sample_rate) * 1000.0)"
   ]
  },
  {
   "cell_type": "code",
   "execution_count": 3,
   "metadata": {},
   "outputs": [],
   "source": [
    "def time_range(df_length, start_timestamp, sample_rate):\n",
    "    '''Generate date time range based on sample rate and starting timestamp'''\n",
    "    time_range = []\n",
    "    t_0 = get_utc_date_time(float(start_timestamp))\n",
    "    time_range.append(t_0)\n",
    "    \n",
    "    next_date = t_0\n",
    "    \n",
    "    for count in range(df_length-1):\n",
    "        next_date = add_fs(sample_rate, next_date)\n",
    "        time_range.append(next_date)\n",
    "    return time_range"
   ]
  },
  {
   "cell_type": "code",
   "execution_count": 4,
   "metadata": {},
   "outputs": [],
   "source": [
    "def format_time(t):\n",
    "    s = t.strftime('%Y-%m-%d %H:%M:%S.%f')\n",
    "    return s[:-3]"
   ]
  },
  {
   "cell_type": "code",
   "execution_count": 5,
   "metadata": {},
   "outputs": [],
   "source": [
    "# Fourier transform that takes a df with X,Y,Z columns and returns one with single column of value: sqrt(x^2 + y^2 + z^2)"
   ]
  },
  {
   "cell_type": "code",
   "execution_count": 6,
   "metadata": {},
   "outputs": [],
   "source": [
    "def fourier_transform(df):\n",
    "    '''fourier transformation: srqt(x^2 + y^2 + z^2)'''\n",
    "    transformed_df = pd.DataFrame()\n",
    "    transformed_df['Transformed'] = df.apply(lambda row: f_t(row), axis=1)\n",
    "    print(transformed_df)\n",
    "    return transformed_df\n",
    "\n",
    "def f_t(row):\n",
    "    return math.sqrt(row['X']**2 + row['Y']**2 + row['Z']**2)"
   ]
  },
  {
   "cell_type": "code",
   "execution_count": 7,
   "metadata": {},
   "outputs": [
    {
     "data": {
      "text/plain": [
       "'C:\\\\Users\\\\shaye\\\\Documents\\\\EAT Lab\\\\Sensor_Data\\\\Empatica data'"
      ]
     },
     "execution_count": 7,
     "metadata": {},
     "output_type": "execute_result"
    }
   ],
   "source": [
    "base_path = r\"C:\\Users\\shaye\\Documents\\EAT Lab\\Sensor_Data\\Empatica data\"\n",
    "participant_id = \"PR025\"\n",
    "base_path"
   ]
  },
  {
   "cell_type": "code",
   "execution_count": 8,
   "metadata": {},
   "outputs": [],
   "source": [
    "list_of_zips = glob.glob(base_path + '\\A*.zip')"
   ]
  },
  {
   "cell_type": "code",
   "execution_count": null,
   "metadata": {},
   "outputs": [],
   "source": [
    "acc_all = []\n",
    "\n",
    "for zip_file in list_of_zips:\n",
    "    zf = ZipFile(zip_file)\n",
    "    acc_df_raw = pd.read_csv(zf.open('ACC.csv'), dtype='int16') #nrows=1000\n",
    "    \n",
    "    starting_timestamp = acc_df_raw.columns[0]\n",
    "    sample_rate = acc_df_raw[starting_timestamp][0]\n",
    "    \n",
    "    acc_df_raw = acc_df_raw.drop([0, 0]) #First row is the sample rate, we don't need it for this script\n",
    "    \n",
    "    #ft_df = fourier_transform(acc_df_raw)\n",
    "    #new_columns = { ft_df.columns[0]: 'X', ft_df.columns[1]: 'Y', ft_df.columns[2]: 'Z' }\n",
    "    #ft_df = ft_df.rename(columns=new_columns)\n",
    "    #ft_df['ParticipantId'] = participant_id\n",
    "    #time_col = time_range(len(ft_df),starting_timestamp,sample_rate)\n",
    "    #ft_df['Timestamp'] = time_col\n",
    "    #print(ft_df)\n",
    "    #acc_all.append(ft_df)\n",
    "    \n",
    "    new_columns = { acc_df_raw.columns[0]: 'X', acc_df_raw.columns[1]: 'Y', acc_df_raw.columns[2]: 'Z' }\n",
    "    acc_df_raw = acc_df_raw.rename(columns=new_columns)\n",
    "    acc_df_raw['ParticipantId'] = participant_id\n",
    "    \n",
    "    time_col = time_range(len(acc_df_raw),starting_timestamp,sample_rate)\n",
    "    acc_df_raw['Timestamp'] = time_col\n",
    "    acc_df_raw['Timestamp'] = acc_df_raw.apply(lambda x: format_time(x['Timestamp']) + '+00:00', axis=1)\n",
    "    \n",
    "    acc_all.append(acc_df_raw)"
   ]
  },
  {
   "cell_type": "code",
   "execution_count": null,
   "metadata": {},
   "outputs": [],
   "source": [
    "acc_df_all = []\n",
    "acc_df_all = pd.concat(acc_all)"
   ]
  },
  {
   "cell_type": "code",
   "execution_count": null,
   "metadata": {},
   "outputs": [],
   "source": [
    "acc_df_all"
   ]
  },
  {
   "cell_type": "code",
   "execution_count": null,
   "metadata": {},
   "outputs": [],
   "source": []
  }
 ],
 "metadata": {
  "kernelspec": {
   "display_name": "Python 3",
   "language": "python",
   "name": "python3"
  },
  "language_info": {
   "codemirror_mode": {
    "name": "ipython",
    "version": 3
   },
   "file_extension": ".py",
   "mimetype": "text/x-python",
   "name": "python",
   "nbconvert_exporter": "python",
   "pygments_lexer": "ipython3",
   "version": "3.8.5"
  }
 },
 "nbformat": 4,
 "nbformat_minor": 4
}
