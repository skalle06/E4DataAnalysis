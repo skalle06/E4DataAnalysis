{
 "cells": [
  {
   "cell_type": "code",
   "execution_count": 1,
   "metadata": {},
   "outputs": [],
   "source": [
    "from scipy.signal import butter, lfilter\n",
    "import pandas as pd\n",
    "import numpy as np\n",
    "import csv\n",
    "import glob\n",
    "import matplotlib.pyplot as plt\n",
    "import datetime\n",
    "from zipfile import ZipFile"
   ]
  },
  {
   "cell_type": "code",
   "execution_count": 2,
   "metadata": {},
   "outputs": [],
   "source": [
    "def get_utc_date_time(ts):\n",
    "    return pd.to_datetime(ts, unit='s', infer_datetime_format = True, utc = True)\n",
    "#.strftime('%H:%M:%S:%f')\n",
    "\n",
    "def add_fs(sample_rate, date):\n",
    "    return date + datetime.timedelta(milliseconds=1.0/(sample_rate) * 1000.0)"
   ]
  },
  {
   "cell_type": "code",
   "execution_count": 3,
   "metadata": {},
   "outputs": [],
   "source": [
    "def time_range(df_length, start_timestamp, sample_rate):\n",
    "    # Generate date time range based on sample rate and starting timestamp\n",
    "    time_range = []\n",
    "    t_0 = get_utc_date_time(float(start_timestamp))\n",
    "    time_range.append(t_0)\n",
    "    \n",
    "    next_date = t_0\n",
    "    \n",
    "    for count in range(df_length-1):\n",
    "        next_date = add_fs(sample_rate, next_date)\n",
    "        time_range.append(next_date)\n",
    "    return time_range"
   ]
  },
  {
   "cell_type": "code",
   "execution_count": 4,
   "metadata": {},
   "outputs": [],
   "source": [
    "def format_time(t):\n",
    "    s = t.strftime('%Y-%m-%d %H:%M:%S.%f')\n",
    "    return s[:-3]"
   ]
  },
  {
   "cell_type": "code",
   "execution_count": 5,
   "metadata": {},
   "outputs": [
    {
     "data": {
      "text/plain": [
       "'C:\\\\Users\\\\shaye\\\\Documents\\\\EAT Lab\\\\Sensor_Data\\\\Empatica data'"
      ]
     },
     "execution_count": 5,
     "metadata": {},
     "output_type": "execute_result"
    }
   ],
   "source": [
    "base_path = r\"C:\\Users\\shaye\\Documents\\EAT Lab\\Sensor_Data\\Empatica data\"\n",
    "participant_id = \"PR025\"\n",
    "base_path"
   ]
  },
  {
   "cell_type": "code",
   "execution_count": 6,
   "metadata": {},
   "outputs": [],
   "source": [
    "list_of_zips = glob.glob(base_path + '\\A*.zip')"
   ]
  },
  {
   "cell_type": "code",
   "execution_count": 7,
   "metadata": {},
   "outputs": [],
   "source": [
    "eda_all = []\n",
    "\n",
    "for zip_file in list_of_zips:\n",
    "    zf = ZipFile(zip_file)\n",
    "    eda_df_raw = pd.read_csv(zf.open('EDA.csv'))\n",
    "    \n",
    "    starting_timestamp = eda_df_raw.columns[0]\n",
    "    sample_rate = eda_df_raw[starting_timestamp][0]\n",
    "    \n",
    "    eda_df_raw = eda_df_raw.drop([0, 0])\n",
    "    eda_df = eda_df_raw.copy()\n",
    "    \n",
    "    time_col = time_range(len(eda_df_raw), starting_timestamp, sample_rate)\n",
    "    eda_df['Timestamp'] = time_col\n",
    "    eda_df['Timestamp'] = eda_df.apply(lambda x: format_time(x['Timestamp']) + '+00:00', axis=1)\n",
    "    \n",
    "    eda_df = eda_df.rename(columns={starting_timestamp:\"EDA\"})\n",
    "    eda_df['ParticipantId'] = participant_id\n",
    "    \n",
    "    eda_all.append(eda_df)"
   ]
  },
  {
   "cell_type": "code",
   "execution_count": 8,
   "metadata": {},
   "outputs": [],
   "source": [
    "eda_df_all = pd.concat(eda_all)"
   ]
  },
  {
   "cell_type": "code",
   "execution_count": 9,
   "metadata": {},
   "outputs": [
    {
     "data": {
      "text/html": [
       "<div>\n",
       "<style scoped>\n",
       "    .dataframe tbody tr th:only-of-type {\n",
       "        vertical-align: middle;\n",
       "    }\n",
       "\n",
       "    .dataframe tbody tr th {\n",
       "        vertical-align: top;\n",
       "    }\n",
       "\n",
       "    .dataframe thead th {\n",
       "        text-align: right;\n",
       "    }\n",
       "</style>\n",
       "<table border=\"1\" class=\"dataframe\">\n",
       "  <thead>\n",
       "    <tr style=\"text-align: right;\">\n",
       "      <th></th>\n",
       "      <th>EDA</th>\n",
       "      <th>Timestamp</th>\n",
       "      <th>ParticipantId</th>\n",
       "    </tr>\n",
       "  </thead>\n",
       "  <tbody>\n",
       "    <tr>\n",
       "      <th>1</th>\n",
       "      <td>0.000000</td>\n",
       "      <td>2020-12-15 13:59:08.000+00:00</td>\n",
       "      <td>PR025</td>\n",
       "    </tr>\n",
       "    <tr>\n",
       "      <th>2</th>\n",
       "      <td>0.838918</td>\n",
       "      <td>2020-12-15 13:59:08.250+00:00</td>\n",
       "      <td>PR025</td>\n",
       "    </tr>\n",
       "    <tr>\n",
       "      <th>3</th>\n",
       "      <td>1.062043</td>\n",
       "      <td>2020-12-15 13:59:08.500+00:00</td>\n",
       "      <td>PR025</td>\n",
       "    </tr>\n",
       "    <tr>\n",
       "      <th>4</th>\n",
       "      <td>0.996791</td>\n",
       "      <td>2020-12-15 13:59:08.750+00:00</td>\n",
       "      <td>PR025</td>\n",
       "    </tr>\n",
       "    <tr>\n",
       "      <th>5</th>\n",
       "      <td>0.999353</td>\n",
       "      <td>2020-12-15 13:59:09.000+00:00</td>\n",
       "      <td>PR025</td>\n",
       "    </tr>\n",
       "    <tr>\n",
       "      <th>...</th>\n",
       "      <td>...</td>\n",
       "      <td>...</td>\n",
       "      <td>...</td>\n",
       "    </tr>\n",
       "    <tr>\n",
       "      <th>158792</th>\n",
       "      <td>2.158767</td>\n",
       "      <td>2021-01-14 01:34:41.750+00:00</td>\n",
       "      <td>PR025</td>\n",
       "    </tr>\n",
       "    <tr>\n",
       "      <th>158793</th>\n",
       "      <td>2.116501</td>\n",
       "      <td>2021-01-14 01:34:42.000+00:00</td>\n",
       "      <td>PR025</td>\n",
       "    </tr>\n",
       "    <tr>\n",
       "      <th>158794</th>\n",
       "      <td>2.074235</td>\n",
       "      <td>2021-01-14 01:34:42.250+00:00</td>\n",
       "      <td>PR025</td>\n",
       "    </tr>\n",
       "    <tr>\n",
       "      <th>158795</th>\n",
       "      <td>2.049900</td>\n",
       "      <td>2021-01-14 01:34:42.500+00:00</td>\n",
       "      <td>PR025</td>\n",
       "    </tr>\n",
       "    <tr>\n",
       "      <th>158796</th>\n",
       "      <td>2.065269</td>\n",
       "      <td>2021-01-14 01:34:42.750+00:00</td>\n",
       "      <td>PR025</td>\n",
       "    </tr>\n",
       "  </tbody>\n",
       "</table>\n",
       "<p>4600134 rows × 3 columns</p>\n",
       "</div>"
      ],
      "text/plain": [
       "             EDA                      Timestamp ParticipantId\n",
       "1       0.000000  2020-12-15 13:59:08.000+00:00         PR025\n",
       "2       0.838918  2020-12-15 13:59:08.250+00:00         PR025\n",
       "3       1.062043  2020-12-15 13:59:08.500+00:00         PR025\n",
       "4       0.996791  2020-12-15 13:59:08.750+00:00         PR025\n",
       "5       0.999353  2020-12-15 13:59:09.000+00:00         PR025\n",
       "...          ...                            ...           ...\n",
       "158792  2.158767  2021-01-14 01:34:41.750+00:00         PR025\n",
       "158793  2.116501  2021-01-14 01:34:42.000+00:00         PR025\n",
       "158794  2.074235  2021-01-14 01:34:42.250+00:00         PR025\n",
       "158795  2.049900  2021-01-14 01:34:42.500+00:00         PR025\n",
       "158796  2.065269  2021-01-14 01:34:42.750+00:00         PR025\n",
       "\n",
       "[4600134 rows x 3 columns]"
      ]
     },
     "execution_count": 9,
     "metadata": {},
     "output_type": "execute_result"
    }
   ],
   "source": [
    "eda_df_all"
   ]
  },
  {
   "cell_type": "code",
   "execution_count": null,
   "metadata": {},
   "outputs": [],
   "source": []
  }
 ],
 "metadata": {
  "kernelspec": {
   "display_name": "Python 3",
   "language": "python",
   "name": "python3"
  },
  "language_info": {
   "codemirror_mode": {
    "name": "ipython",
    "version": 3
   },
   "file_extension": ".py",
   "mimetype": "text/x-python",
   "name": "python",
   "nbconvert_exporter": "python",
   "pygments_lexer": "ipython3",
   "version": "3.8.5"
  }
 },
 "nbformat": 4,
 "nbformat_minor": 4
}
