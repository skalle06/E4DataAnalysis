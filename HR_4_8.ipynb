{
 "cells": [
  {
   "cell_type": "code",
   "execution_count": 1,
   "metadata": {},
   "outputs": [],
   "source": [
    "from scipy.signal import butter, lfilter\n",
    "import pandas as pd\n",
    "import numpy as np\n",
    "import csv\n",
    "import glob\n",
    "import matplotlib.pyplot as plt\n",
    "import datetime\n",
    "from zipfile import ZipFile\n",
    "from sqlalchemy import create_engine"
   ]
  },
  {
   "cell_type": "code",
   "execution_count": 2,
   "metadata": {},
   "outputs": [],
   "source": [
    "def get_utc_date_time(ts):\n",
    "    return pd.to_datetime(ts, unit='s', infer_datetime_format = True, utc = True)\n",
    "#.strftime('%H:%M:%S:%f')\n",
    "\n",
    "def add_fs(sample_rate, date):\n",
    "    return date + datetime.timedelta(milliseconds=1.0/(sample_rate) * 1000.0)"
   ]
  },
  {
   "cell_type": "code",
   "execution_count": 3,
   "metadata": {},
   "outputs": [],
   "source": [
    "def time_range(df_length, start_timestamp, sample_rate):\n",
    "    # Generate date time range based on sample rate and starting timestamp\n",
    "    time_range = []\n",
    "    t_0 = get_utc_date_time(float(start_timestamp))\n",
    "    time_range.append(t_0)\n",
    "    \n",
    "    next_date = t_0\n",
    "    \n",
    "    for count in range(df_length-1):\n",
    "        next_date = add_fs(sample_rate, next_date)\n",
    "        time_range.append(next_date)\n",
    "    return time_range"
   ]
  },
  {
   "cell_type": "code",
   "execution_count": 4,
   "metadata": {},
   "outputs": [],
   "source": [
    "def format_time(t):\n",
    "    s = t.strftime('%Y-%m-%d %H:%M:%S.%f')\n",
    "    return s[:-3]"
   ]
  },
  {
   "cell_type": "code",
   "execution_count": 5,
   "metadata": {},
   "outputs": [],
   "source": [
    "def process_hr(list_of_zips, participant_id):\n",
    "    hr_all = []\n",
    "\n",
    "    for zip_file in list_of_zips:\n",
    "        zf = ZipFile(zip_file)\n",
    "        hr_df_raw = pd.read_csv(zf.open('HR.csv'))\n",
    "\n",
    "        starting_timestamp = hr_df_raw.columns[0]\n",
    "        sample_rate = hr_df_raw[starting_timestamp][0]\n",
    "\n",
    "        hr_df_raw = hr_df_raw.drop([0, 0])\n",
    "        hr_df = hr_df_raw.copy()\n",
    "\n",
    "        time_col = time_range(len(hr_df_raw), starting_timestamp, sample_rate)\n",
    "        hr_df['Timestamp'] = time_col\n",
    "        hr_df['Timestamp'] = hr_df.apply(lambda x: format_time(x['Timestamp']) + '+00:00', axis=1)\n",
    "\n",
    "        hr_df = hr_df.rename(columns={starting_timestamp:\"HR\"})\n",
    "        hr_df['ParticipantId'] = participant_id\n",
    "\n",
    "        hr_all.append(hr_df)\n",
    "    \n",
    "    hr_df_all = []\n",
    "    hr_df_all = pd.concat(hr_all)\n",
    "    return hr_df_all"
   ]
  },
  {
   "cell_type": "code",
   "execution_count": 6,
   "metadata": {},
   "outputs": [],
   "source": [
    "base_path = r\"C:\\Users\\shaye\\Documents\\EAT Lab\\Sensor_Data\"\n",
    "participant_data = glob.glob(base_path + \"/ID PR*\")"
   ]
  },
  {
   "cell_type": "code",
   "execution_count": 7,
   "metadata": {},
   "outputs": [
    {
     "name": "stdout",
     "output_type": "stream",
     "text": [
      "          HR                      Timestamp ParticipantId\n",
      "1      49.00  2020-12-15 13:59:18.000+00:00         PR025\n",
      "2      49.00  2020-12-15 13:59:19.000+00:00         PR025\n",
      "3      88.00  2020-12-15 13:59:20.000+00:00         PR025\n",
      "4      78.00  2020-12-15 13:59:21.000+00:00         PR025\n",
      "5      74.00  2020-12-15 13:59:22.000+00:00         PR025\n",
      "...      ...                            ...           ...\n",
      "39686  83.58  2021-01-14 01:34:39.000+00:00         PR025\n",
      "39687  83.63  2021-01-14 01:34:40.000+00:00         PR025\n",
      "39688  83.65  2021-01-14 01:34:41.000+00:00         PR025\n",
      "39689  83.53  2021-01-14 01:34:42.000+00:00         PR025\n",
      "39690  83.45  2021-01-14 01:34:43.000+00:00         PR025\n",
      "\n",
      "[1149756 rows x 3 columns]\n"
     ]
    }
   ],
   "source": [
    "for path in participant_data: \n",
    "    path_parts = path.split(\"\\\\\")\n",
    "    participant_id = path_parts[-1:][0].split()[-1:][0]\n",
    "    list_of_zips = glob.glob(path + \"/Empatica data/A*.zip\")\n",
    "    hr_test = process_hr(list_of_zips, participant_id)\n",
    "    print(hr_test)"
   ]
  },
  {
   "cell_type": "code",
   "execution_count": null,
   "metadata": {},
   "outputs": [],
   "source": []
  }
 ],
 "metadata": {
  "kernelspec": {
   "display_name": "Python 3",
   "language": "python",
   "name": "python3"
  },
  "language_info": {
   "codemirror_mode": {
    "name": "ipython",
    "version": 3
   },
   "file_extension": ".py",
   "mimetype": "text/x-python",
   "name": "python",
   "nbconvert_exporter": "python",
   "pygments_lexer": "ipython3",
   "version": "3.8.5"
  }
 },
 "nbformat": 4,
 "nbformat_minor": 4
}
