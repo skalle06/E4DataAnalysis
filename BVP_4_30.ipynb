{
 "cells": [
  {
   "cell_type": "code",
   "execution_count": 1,
   "metadata": {},
   "outputs": [],
   "source": [
    "from scipy.signal import butter, lfilter\n",
    "import pandas as pd\n",
    "import numpy as np\n",
    "import csv\n",
    "import glob\n",
    "import matplotlib.pyplot as plt\n",
    "import datetime\n",
    "from zipfile import ZipFile"
   ]
  },
  {
   "cell_type": "code",
   "execution_count": 2,
   "metadata": {},
   "outputs": [],
   "source": [
    "def get_utc_date_time(ts):\n",
    "    return pd.to_datetime(ts, unit='s', infer_datetime_format = True, utc = True)\n",
    "#.strftime('%H:%M:%S:%f')\n",
    "\n",
    "def add_fs(sample_rate, date):\n",
    "    return date + datetime.timedelta(milliseconds=1.0/(sample_rate) * 1000.0)"
   ]
  },
  {
   "cell_type": "code",
   "execution_count": 3,
   "metadata": {},
   "outputs": [],
   "source": [
    "def time_range(df_length, start_timestamp, sample_rate):\n",
    "    # Generate date time range based on sample rate and starting timestamp\n",
    "    time_range = []\n",
    "    t_0 = get_utc_date_time(float(start_timestamp))\n",
    "    time_range.append(t_0)\n",
    "    \n",
    "    next_date = t_0\n",
    "    \n",
    "    for count in range(df_length-1):\n",
    "        next_date = add_fs(sample_rate, next_date)\n",
    "        time_range.append(next_date)\n",
    "    return time_range"
   ]
  },
  {
   "cell_type": "code",
   "execution_count": 4,
   "metadata": {},
   "outputs": [],
   "source": [
    "def format_time(t):\n",
    "    s = t.strftime('%Y-%m-%d %H:%M:%S.%f')\n",
    "    return s[:-3]"
   ]
  },
  {
   "cell_type": "code",
   "execution_count": 5,
   "metadata": {},
   "outputs": [],
   "source": [
    "def process_bvp(list_of_zips, participant_id):\n",
    "    bvp_all = []\n",
    "\n",
    "    for zip_file in list_of_zips:\n",
    "        zf = ZipFile(zip_file)\n",
    "        bvp_df_raw = pd.read_csv(zf.open('BVP.csv'))\n",
    "\n",
    "        starting_timestamp = bvp_df_raw.columns[0]\n",
    "        sample_rate = bvp_df_raw[starting_timestamp][0]\n",
    "\n",
    "        bvp_df_raw = bvp_df_raw.drop([0, 0])\n",
    "        bvp_df = bvp_df_raw.copy()\n",
    "\n",
    "        time_col = time_range(len(bvp_df_raw), starting_timestamp, sample_rate)\n",
    "        bvp_df['Timestamp'] = time_col\n",
    "        bvp_df['Timestamp'] = bvp_df.apply(lambda x: format_time(x['Timestamp']) + '+00:00', axis=1)\n",
    "\n",
    "        bvp_df = bvp_df.rename(columns={starting_timestamp:\"BVP\"})\n",
    "        bvp_df['ParticipantId'] = participant_id\n",
    "\n",
    "        bvp_all.append(bvp_df)\n",
    "    \n",
    "    bvp_df_all = []\n",
    "    bvp_df_all = pd.concat(bvp_all)\n",
    "    return bvp_df_all"
   ]
  },
  {
   "cell_type": "code",
   "execution_count": 6,
   "metadata": {},
   "outputs": [],
   "source": [
    "base_path = r\"C:\\Users\\shaye\\Documents\\EAT Lab\\Sensor_Data\"\n",
    "participant_data = glob.glob(base_path + \"/ID PR*\")"
   ]
  },
  {
   "cell_type": "code",
   "execution_count": 7,
   "metadata": {},
   "outputs": [
    {
     "name": "stdout",
     "output_type": "stream",
     "text": [
      "           BVP                      Timestamp ParticipantId\n",
      "1        -0.00  2020-12-15 13:59:08.000+00:00         PR025\n",
      "2        -0.00  2020-12-15 13:59:08.015+00:00         PR025\n",
      "3        -0.00  2020-12-15 13:59:08.031+00:00         PR025\n",
      "4        -0.00  2020-12-15 13:59:08.046+00:00         PR025\n",
      "5        -0.00  2020-12-15 13:59:08.062+00:00         PR025\n",
      "...        ...                            ...           ...\n",
      "2540732  65.17  2021-01-14 01:34:42.921+00:00         PR025\n",
      "2540733  63.93  2021-01-14 01:34:42.937+00:00         PR025\n",
      "2540734  61.23  2021-01-14 01:34:42.953+00:00         PR025\n",
      "2540735  57.64  2021-01-14 01:34:42.968+00:00         PR025\n",
      "2540736  54.52  2021-01-14 01:34:42.984+00:00         PR025\n",
      "\n",
      "[73602694 rows x 3 columns]\n"
     ]
    }
   ],
   "source": [
    "for path in participant_data: \n",
    "    path_parts = path.split(\"\\\\\")\n",
    "    participant_id = path_parts[-1:][0].split()[-1:][0]\n",
    "    list_of_zips = glob.glob(path + \"/Empatica data/A*.zip\")\n",
    "    bvp_test = process_bvp(list_of_zips, participant_id)\n",
    "    print(bvp_test)"
   ]
  },
  {
   "cell_type": "code",
   "execution_count": null,
   "metadata": {},
   "outputs": [],
   "source": []
  }
 ],
 "metadata": {
  "kernelspec": {
   "display_name": "Python 3",
   "language": "python",
   "name": "python3"
  },
  "language_info": {
   "codemirror_mode": {
    "name": "ipython",
    "version": 3
   },
   "file_extension": ".py",
   "mimetype": "text/x-python",
   "name": "python",
   "nbconvert_exporter": "python",
   "pygments_lexer": "ipython3",
   "version": "3.8.5"
  }
 },
 "nbformat": 4,
 "nbformat_minor": 4
}
