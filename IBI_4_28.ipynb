{
 "cells": [
  {
   "cell_type": "code",
   "execution_count": 1,
   "metadata": {},
   "outputs": [],
   "source": [
    "from scipy.signal import butter, lfilter\n",
    "import pandas as pd\n",
    "import numpy as np\n",
    "import csv\n",
    "import glob\n",
    "import matplotlib.pyplot as plt\n",
    "import datetime\n",
    "import math\n",
    "from zipfile import ZipFile"
   ]
  },
  {
   "cell_type": "code",
   "execution_count": 2,
   "metadata": {},
   "outputs": [],
   "source": [
    "def get_utc_date_time(ts):\n",
    "    return pd.to_datetime(ts, unit='s', infer_datetime_format = True, utc = True)\n",
    "#.strftime('%H:%M:%S:%f')\n",
    "\n",
    "def add_fs(sample_rate, date):\n",
    "    return date + datetime.timedelta(milliseconds=1.0/(sample_rate) * 1000.0)"
   ]
  },
  {
   "cell_type": "code",
   "execution_count": 3,
   "metadata": {},
   "outputs": [],
   "source": [
    "def time_range(df_length, start_timestamp, sample_rate):\n",
    "    '''Generate date time range based on sample rate and starting timestamp'''\n",
    "    time_range = []\n",
    "    t_0 = get_utc_date_time(float(start_timestamp))\n",
    "    time_range.append(t_0)\n",
    "    \n",
    "    next_date = t_0\n",
    "    \n",
    "    for count in range(df_length-1):\n",
    "        next_date = add_fs(sample_rate, next_date)\n",
    "        time_range.append(next_date)\n",
    "    return time_range"
   ]
  },
  {
   "cell_type": "code",
   "execution_count": 4,
   "metadata": {},
   "outputs": [],
   "source": [
    "def format_time(t):\n",
    "    s = t.strftime('%Y-%m-%d %H:%M:%S.%f')\n",
    "    return s[:-3]"
   ]
  },
  {
   "cell_type": "code",
   "execution_count": 5,
   "metadata": {},
   "outputs": [
    {
     "data": {
      "text/plain": [
       "'C:\\\\Users\\\\shaye\\\\Documents\\\\EAT Lab\\\\Sensor_Data\\\\Empatica data'"
      ]
     },
     "execution_count": 5,
     "metadata": {},
     "output_type": "execute_result"
    }
   ],
   "source": [
    "base_path = r\"C:\\Users\\shaye\\Documents\\EAT Lab\\Sensor_Data\\Empatica data\"\n",
    "participant_id = \"PR025\"\n",
    "base_path"
   ]
  },
  {
   "cell_type": "code",
   "execution_count": 6,
   "metadata": {},
   "outputs": [],
   "source": [
    "list_of_zips = glob.glob(base_path + '\\A*.zip')"
   ]
  },
  {
   "cell_type": "code",
   "execution_count": 7,
   "metadata": {},
   "outputs": [],
   "source": [
    "ibi_all = []\n",
    "\n",
    "for zip_file in list_of_zips:\n",
    "    zf = ZipFile(zip_file)\n",
    "    ibi_df_raw = pd.read_csv(zf.open('IBI.csv'), nrows=100)\n",
    "    \n",
    "    starting_timestamp = get_utc_date_time(ibi_df_raw.columns[0])\n",
    "    \n",
    "    new_cols = {ibi_df_raw.columns[0]: \"Timestamp\"}\n",
    "    ibi_df = ibi_df_raw.rename(columns=new_cols)\n",
    "    ibi_df['Participant ID'] = participant_id\n",
    "    \n",
    "    ibi_df['Timestamp'] = ibi_df.apply(lambda x: starting_timestamp + pd.Timedelta(seconds=x['Timestamp']), axis=1)\n",
    "    ibi_df['Timestamp'] = ibi_df.apply(lambda x: format_time(x['Timestamp']) + '+00:00', axis=1)\n",
    "    \n",
    "    ibi_all.append(ibi_df)"
   ]
  },
  {
   "cell_type": "code",
   "execution_count": 8,
   "metadata": {},
   "outputs": [],
   "source": [
    "ibi_df_all = pd.concat(ibi_all)"
   ]
  },
  {
   "cell_type": "code",
   "execution_count": 9,
   "metadata": {},
   "outputs": [
    {
     "data": {
      "text/html": [
       "<div>\n",
       "<style scoped>\n",
       "    .dataframe tbody tr th:only-of-type {\n",
       "        vertical-align: middle;\n",
       "    }\n",
       "\n",
       "    .dataframe tbody tr th {\n",
       "        vertical-align: top;\n",
       "    }\n",
       "\n",
       "    .dataframe thead th {\n",
       "        text-align: right;\n",
       "    }\n",
       "</style>\n",
       "<table border=\"1\" class=\"dataframe\">\n",
       "  <thead>\n",
       "    <tr style=\"text-align: right;\">\n",
       "      <th></th>\n",
       "      <th>Timestamp</th>\n",
       "      <th>IBI</th>\n",
       "      <th>Participant ID</th>\n",
       "    </tr>\n",
       "  </thead>\n",
       "  <tbody>\n",
       "    <tr>\n",
       "      <th>0</th>\n",
       "      <td>2020-12-15 13:59:22.234+00:00</td>\n",
       "      <td>0.812500</td>\n",
       "      <td>PR025</td>\n",
       "    </tr>\n",
       "    <tr>\n",
       "      <th>1</th>\n",
       "      <td>2020-12-15 13:59:22.937+00:00</td>\n",
       "      <td>0.703125</td>\n",
       "      <td>PR025</td>\n",
       "    </tr>\n",
       "    <tr>\n",
       "      <th>2</th>\n",
       "      <td>2020-12-15 13:59:23.625+00:00</td>\n",
       "      <td>0.687500</td>\n",
       "      <td>PR025</td>\n",
       "    </tr>\n",
       "    <tr>\n",
       "      <th>3</th>\n",
       "      <td>2020-12-15 13:59:24.312+00:00</td>\n",
       "      <td>0.687500</td>\n",
       "      <td>PR025</td>\n",
       "    </tr>\n",
       "    <tr>\n",
       "      <th>4</th>\n",
       "      <td>2020-12-15 13:59:25.031+00:00</td>\n",
       "      <td>0.718750</td>\n",
       "      <td>PR025</td>\n",
       "    </tr>\n",
       "    <tr>\n",
       "      <th>...</th>\n",
       "      <td>...</td>\n",
       "      <td>...</td>\n",
       "      <td>...</td>\n",
       "    </tr>\n",
       "    <tr>\n",
       "      <th>95</th>\n",
       "      <td>2021-01-13 14:41:59.578+00:00</td>\n",
       "      <td>0.468750</td>\n",
       "      <td>PR025</td>\n",
       "    </tr>\n",
       "    <tr>\n",
       "      <th>96</th>\n",
       "      <td>2021-01-13 14:42:06.515+00:00</td>\n",
       "      <td>0.703125</td>\n",
       "      <td>PR025</td>\n",
       "    </tr>\n",
       "    <tr>\n",
       "      <th>97</th>\n",
       "      <td>2021-01-13 14:42:14.812+00:00</td>\n",
       "      <td>0.453125</td>\n",
       "      <td>PR025</td>\n",
       "    </tr>\n",
       "    <tr>\n",
       "      <th>98</th>\n",
       "      <td>2021-01-13 14:42:15.265+00:00</td>\n",
       "      <td>0.453125</td>\n",
       "      <td>PR025</td>\n",
       "    </tr>\n",
       "    <tr>\n",
       "      <th>99</th>\n",
       "      <td>2021-01-13 14:42:15.703+00:00</td>\n",
       "      <td>0.437500</td>\n",
       "      <td>PR025</td>\n",
       "    </tr>\n",
       "  </tbody>\n",
       "</table>\n",
       "<p>3000 rows × 3 columns</p>\n",
       "</div>"
      ],
      "text/plain": [
       "                        Timestamp       IBI Participant ID\n",
       "0   2020-12-15 13:59:22.234+00:00  0.812500          PR025\n",
       "1   2020-12-15 13:59:22.937+00:00  0.703125          PR025\n",
       "2   2020-12-15 13:59:23.625+00:00  0.687500          PR025\n",
       "3   2020-12-15 13:59:24.312+00:00  0.687500          PR025\n",
       "4   2020-12-15 13:59:25.031+00:00  0.718750          PR025\n",
       "..                            ...       ...            ...\n",
       "95  2021-01-13 14:41:59.578+00:00  0.468750          PR025\n",
       "96  2021-01-13 14:42:06.515+00:00  0.703125          PR025\n",
       "97  2021-01-13 14:42:14.812+00:00  0.453125          PR025\n",
       "98  2021-01-13 14:42:15.265+00:00  0.453125          PR025\n",
       "99  2021-01-13 14:42:15.703+00:00  0.437500          PR025\n",
       "\n",
       "[3000 rows x 3 columns]"
      ]
     },
     "execution_count": 9,
     "metadata": {},
     "output_type": "execute_result"
    }
   ],
   "source": [
    "ibi_df_all"
   ]
  },
  {
   "cell_type": "code",
   "execution_count": null,
   "metadata": {},
   "outputs": [],
   "source": []
  }
 ],
 "metadata": {
  "kernelspec": {
   "display_name": "Python 3",
   "language": "python",
   "name": "python3"
  },
  "language_info": {
   "codemirror_mode": {
    "name": "ipython",
    "version": 3
   },
   "file_extension": ".py",
   "mimetype": "text/x-python",
   "name": "python",
   "nbconvert_exporter": "python",
   "pygments_lexer": "ipython3",
   "version": "3.8.5"
  }
 },
 "nbformat": 4,
 "nbformat_minor": 4
}
